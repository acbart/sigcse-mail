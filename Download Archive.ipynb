{
 "cells": [
  {
   "cell_type": "code",
   "execution_count": 5,
   "metadata": {},
   "outputs": [],
   "source": [
    "import requests\n",
    "from lxml import html\n",
    "import json\n",
    "from IPython.core.display import HTML"
   ]
  },
  {
   "cell_type": "code",
   "execution_count": 37,
   "metadata": {},
   "outputs": [],
   "source": [
    "with open('config/listserv.json', 'r') as credentials_file:\n",
    "    credentials = json.load(credentials_file)\n",
    "headers = {'User-Agent': ('Mozilla/5.0 (Windows NT 10.0; Win64; x64) AppleWebKit/537.36 (KHTML, like Gecko) Chrome/71.0.3578.98 Safari/537.36')}"
   ]
  },
  {
   "cell_type": "code",
   "execution_count": 39,
   "metadata": {},
   "outputs": [
    {
     "name": "stdout",
     "output_type": "stream",
     "text": [
      "{'p': 'coryBart0;', 'LOGIN1': '', 'e': 'Log+In', 'Y': 'acbart@udel.edu', 'X': '9EE9301BE82B85BD03'}\n"
     ]
    },
    {
     "data": {
      "text/html": [
       "<h1>Error - invalid parameter</h1>\r\n",
       "An invalid parameter was passed to the CGI function. Please report this\r\n",
       "error to the webmaster and make sure to specify the full URL that led to\r\n",
       "this message.\r\n",
       "<p>"
      ],
      "text/plain": [
       "<IPython.core.display.HTML object>"
      ]
     },
     "execution_count": 39,
     "metadata": {},
     "output_type": "execute_result"
    }
   ],
   "source": [
    "session_requests = requests.session()\n",
    "session_requests.headers.update(headers)\n",
    "session_requests.headers.update({'referer': 'https://listserv.acm.org/SCRIPTS/WA-ACMLPX.CGI?LOGON'})\n",
    "\n",
    "LOGIN_URL = 'https://listserv.acm.org/SCRIPTS/WA-ACMLPX.CGI'\n",
    "\n",
    "login_parameters = {\n",
    "    'LOGIN1': '',\n",
    "    'Y': credentials['email'],\n",
    "    'p': credentials['password'],\n",
    "    'e': 'Log+In',\n",
    "    'X': '9EE9301BE82B85BD03'\n",
    "}\n",
    "print(login_parameters)\n",
    "post_login = session_requests.post(LOGIN_URL,data=login_parameters)\n",
    "HTML(post_login.text)\n"
   ]
  }
 ],
 "metadata": {
  "kernelspec": {
   "display_name": "Python [conda env:Anaconda3]",
   "language": "python",
   "name": "conda-env-Anaconda3-py"
  },
  "language_info": {
   "codemirror_mode": {
    "name": "ipython",
    "version": 3
   },
   "file_extension": ".py",
   "mimetype": "text/x-python",
   "name": "python",
   "nbconvert_exporter": "python",
   "pygments_lexer": "ipython3",
   "version": "3.5.4"
  }
 },
 "nbformat": 4,
 "nbformat_minor": 2
}
