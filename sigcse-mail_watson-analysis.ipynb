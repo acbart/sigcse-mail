{
 "cells": [
  {
   "cell_type": "code",
   "execution_count": null,
   "metadata": {},
   "outputs": [],
   "source": [
    "# -*- coding: utf-8 -*-\n",
    "\"\"\"\n",
    "Created on Fri Apr  7 21:04:35 2017\n",
    "\n",
    "@author: acbart\n",
    "\"\"\"\n",
    "\n",
    "import json\n",
    "from watson_developer_cloud import ToneAnalyzerV3\n",
    "from tqdm import tqdm\n",
    "import os\n",
    "\n",
    "with open('credentials.json', 'r') as credentials_file:\n",
    "    credentials = json.load(credentials_file)\n",
    "    \n",
    "tone_analyzer = ToneAnalyzerV3(\n",
    "   username=credentials['username'],\n",
    "   password=credentials['password'],\n",
    "   version='2016-05-19 ')\n",
    "\n",
    "CHUNK_FOLDER = 'cleaned_attachments/'\n",
    "RESULT_FOLDER = 'analyzed_attachments/'\n",
    "\n",
    "for chunk_filename in tqdm(os.listdir(CHUNK_FOLDER)):\n",
    "    chunk_filename = os.path.splitext(chunk_filename)[0]\n",
    "    base_name = '/'.join([CHUNK_FOLDER, chunk_filename+'.html'])\n",
    "    result_name = '/'.join([RESULT_FOLDER, chunk_filename+'.json'])\n",
    "    with (open(base_name, 'r') as book_file,\n",
    "          open(result_name, 'w') as analysis_file):\n",
    "        book = book_file.read()\n",
    "        analysis = tone_analyzer.tone(text=book)\n",
    "        json.dump(analysis, analysis_file, indent=2)"
   ]
  }
 ],
 "metadata": {
  "kernelspec": {
   "display_name": "Python [conda env:Anaconda3]",
   "language": "python",
   "name": "conda-env-Anaconda3-py"
  },
  "language_info": {
   "codemirror_mode": {
    "name": "ipython",
    "version": 3
   },
   "file_extension": ".py",
   "mimetype": "text/x-python",
   "name": "python",
   "nbconvert_exporter": "python",
   "pygments_lexer": "ipython3",
   "version": "3.5.4"
  }
 },
 "nbformat": 4,
 "nbformat_minor": 2
}
