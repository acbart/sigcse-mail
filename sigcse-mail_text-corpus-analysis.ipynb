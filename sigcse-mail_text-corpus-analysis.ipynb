{
 "cells": [
  {
   "cell_type": "markdown",
   "metadata": {},
   "source": [
    "I believe this relies on some variables from process-2.py first."
   ]
  },
  {
   "cell_type": "code",
   "execution_count": null,
   "metadata": {},
   "outputs": [],
   "source": [
    "import pandas as pd\n",
    "from gensim import corpora, models\n",
    "\n",
    "col = metadata.body\n",
    "\"\"\"Derive topic features from a text pandas series\"\"\"\n",
    "# generate topics for corpora\n",
    "colname = col.name\n",
    "col = col.astype(str).apply(lambda x:x.split())\n",
    "dictionary = corpora.Dictionary(col)\n",
    "corpus = [dictionary.doc2bow(text) for text in col]\n",
    "tfidf = models.TfidfModel(corpus)\n",
    "corpus_tfidf = tfidf[corpus]\n",
    "lda = models.LdaModel(corpus_tfidf, id2word=dictionary, num_topics=100, passes=2, iterations=50)\n",
    "lda.print_topics(-1)\n",
    "# get topic distribution for doc\n",
    "def get_topics(words): return dict(lda[dictionary.doc2bow(words)])\n",
    "topics_df = pd.DataFrame(col.apply(get_topics).tolist()).fillna(0.001)\n",
    "topics_df.columns = ['topic_'+str(cn)+'_'+colname for cn in topics_df.columns]\n",
    "return topics_df"
   ]
  },
  {
   "cell_type": "code",
   "execution_count": null,
   "metadata": {},
   "outputs": [],
   "source": [
    "from gensim import corpora, models\n",
    "biggest_thread = emails.groupby('thread_id').kind.count().sort_values(ascending=False).index[8]\n",
    "big_thread = emails[emails.thread_id == biggest_thread].body\n",
    "\n",
    "\n",
    "doc_clean = [clean_text(doc).split() for doc in big_thread] \n",
    "\n",
    "dictionary = corpora.Dictionary(doc_clean)\n",
    "\n",
    "# Converting list of documents (corpus) into Document Term Matrix using dictionary prepared above.\n",
    "doc_term_matrix = [dictionary.doc2bow(doc) for doc in doc_clean]\n",
    "\n",
    "# Creating the object for LDA model using gensim library\n",
    "Lda = gensim.models.ldamodel.LdaModel\n",
    "\n",
    "# Running and Trainign LDA model on the document term matrix.\n",
    "ldamodel = Lda(doc_term_matrix, num_topics=5, id2word = dictionary, passes=50)\n",
    "\n",
    "print(emails[emails.thread_id == biggest_thread].subject.iloc[0])\n",
    "for (x, t) in ldamodel.print_topics(num_topics=5, num_words=3):\n",
    "    print(t)"
   ]
  }
 ],
 "metadata": {
  "kernelspec": {
   "display_name": "Python [conda env:Anaconda3]",
   "language": "python",
   "name": "conda-env-Anaconda3-py"
  },
  "language_info": {
   "codemirror_mode": {
    "name": "ipython",
    "version": 3
   },
   "file_extension": ".py",
   "mimetype": "text/x-python",
   "name": "python",
   "nbconvert_exporter": "python",
   "pygments_lexer": "ipython3",
   "version": "3.5.4"
  }
 },
 "nbformat": 4,
 "nbformat_minor": 2
}
