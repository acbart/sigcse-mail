{
 "cells": [
  {
   "cell_type": "markdown",
   "metadata": {},
   "source": [
    "# Classification of Email Types\n",
    "\n",
    "This script was used to label each email as being either a conference posting, job ad, or a regular communication. It uses a basic linear classifier with SGCD learning. I took it almost verbatim from examples :)"
   ]
  },
  {
   "cell_type": "code",
   "execution_count": 1,
   "metadata": {},
   "outputs": [],
   "source": [
    "import os\n",
    "import codecs\n",
    "import csv\n",
    "import random\n",
    "import pandas as pd\n",
    "import numpy as np\n",
    "from sklearn.feature_extraction.text import CountVectorizer\n",
    "from sklearn.feature_extraction.text import TfidfTransformer\n",
    "from sklearn.naive_bayes import MultinomialNB\n",
    "from sklearn.pipeline import Pipeline\n",
    "from sklearn.linear_model import SGDClassifier\n",
    "from sklearn import metrics"
   ]
  },
  {
   "cell_type": "code",
   "execution_count": null,
   "metadata": {},
   "outputs": [],
   "source": [
    "attachments = {}\n",
    "## Use these to get initial email_classification file\n",
    "#with open('results/email_classification.csv', 'w', newline='') as out:\n",
    "    #wr = csv.writer(out, quoting=csv.QUOTE_ALL)\n",
    "\n",
    "files = os.listdir('data/cleaned_attachments/')\n",
    "data_names = []\n",
    "data = []\n",
    "for attachment in files:\n",
    "    if attachment.endswith('.txt'):\n",
    "        with codecs.open('data/cleaned_attachments/'+attachment, encoding='utf-8') as attachment_data:\n",
    "            data_names.append(attachment)\n",
    "            data.append(attachment_data.read())\n",
    "            ## Also uncomment these to generate the file\n",
    "            #short = data[:100].replace('\\n', ' ').replace('\\r', ' ')\n",
    "            #wr.writerow([\"\", attachment, short])\n",
    "data_names = pd.Series(data_names)\n",
    "data = pd.Series(data)\n",
    "paired = pd.Series(dict(zip(data_names, data)))"
   ]
  },
  {
   "cell_type": "code",
   "execution_count": null,
   "metadata": {},
   "outputs": [],
   "source": [
    "training = pd.read_csv('results/email_classification_post.csv',\n",
    "                       names=['Label', 'ID', 'Text'],\n",
    "                       index_col='ID',\n",
    "                       header=None)\n",
    "del training['Text']\n",
    "training = training.dropna(subset=['Label'])\n",
    "training['text'] = paired\n",
    "\n",
    "text_clf = Pipeline([('vect', CountVectorizer()),\n",
    "                     ('tfidf', TfidfTransformer()),\n",
    "                     ('clf', SGDClassifier(loss='hinge', penalty='l2',\n",
    "                                           alpha=1e-3, n_iter=5, random_state=42)),\n",
    "])\n",
    "text_clf = text_clf.fit(training.text, training.Label)"
   ]
  },
  {
   "cell_type": "code",
   "execution_count": null,
   "metadata": {},
   "outputs": [],
   "source": [
    "docs_new = paired.drop(training.index)\n",
    "\n",
    "predicted = text_clf.predict(docs_new)\n",
    "predicted_paired = pd.Series(predicted, index=docs_new.index)\n",
    "for doc, category in list(zip(docs_new.index, predicted))[:50]:\n",
    "    print('%r => %s' % (doc, category))\n",
    "predicted_paired.to_csv('data/labeled_emails.csv')"
   ]
  },
  {
   "cell_type": "code",
   "execution_count": null,
   "metadata": {},
   "outputs": [],
   "source": [
    "# Test\n",
    "tested = text_clf.predict(training.text)\n",
    "print(np.mean(tested == training.Label))"
   ]
  },
  {
   "cell_type": "code",
   "execution_count": null,
   "metadata": {},
   "outputs": [],
   "source": [
    "print(metrics.classification_report(training.Label, tested))\n",
    "print(metrics.confusion_matrix(training.Label, tested))"
   ]
  },
  {
   "cell_type": "markdown",
   "metadata": {},
   "source": [
    "I was stunned at how well this ended up working."
   ]
  }
 ],
 "metadata": {
  "kernelspec": {
   "display_name": "Python [conda env:Anaconda3]",
   "language": "python",
   "name": "conda-env-Anaconda3-py"
  },
  "language_info": {
   "codemirror_mode": {
    "name": "ipython",
    "version": 3
   },
   "file_extension": ".py",
   "mimetype": "text/x-python",
   "name": "python",
   "nbconvert_exporter": "python",
   "pygments_lexer": "ipython3",
   "version": "3.5.4"
  }
 },
 "nbformat": 4,
 "nbformat_minor": 2
}
